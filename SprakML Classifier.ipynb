{
 "cells": [
  {
   "cell_type": "markdown",
   "metadata": {},
   "source": [
    "## SprakML Classifier"
   ]
  },
  {
   "cell_type": "code",
   "execution_count": 1,
   "metadata": {},
   "outputs": [
    {
     "name": "stdout",
     "output_type": "stream",
     "text": [
      "Waiting for a Spark session to start...\n",
      "Spark Initialization Done! ApplicationId = app-20191216101154-0001\n",
      "KERNEL_ID = 98cd4d00-37d4-483a-8170-d80440824ea9\n",
      "--2019-12-16 10:11:56--  https://github.com/rahulsnair/sample_parquet/blob/master/a2.parquet?raw=true\n",
      "Resolving github.com (github.com)... 140.82.118.4\n",
      "Connecting to github.com (github.com)|140.82.118.4|:443... connected.\n",
      "HTTP request sent, awaiting response... 302 Found\n",
      "Location: https://github.com/rahulsnair/sample_parquet/raw/master/a2.parquet [following]\n",
      "--2019-12-16 10:11:57--  https://github.com/rahulsnair/sample_parquet/raw/master/a2.parquet\n",
      "Reusing existing connection to github.com:443.\n",
      "HTTP request sent, awaiting response... 302 Found\n",
      "Location: https://raw.githubusercontent.com/rahulsnair/sample_parquet/master/a2.parquet [following]\n",
      "--2019-12-16 10:11:57--  https://raw.githubusercontent.com/rahulsnair/sample_parquet/master/a2.parquet\n",
      "Resolving raw.githubusercontent.com (raw.githubusercontent.com)... 199.232.8.133\n",
      "Connecting to raw.githubusercontent.com (raw.githubusercontent.com)|199.232.8.133|:443... connected.\n",
      "HTTP request sent, awaiting response... 200 OK\n",
      "Length: 59032 (58K) [application/octet-stream]\n",
      "Saving to: 'a2.parquet?raw=true'\n",
      "\n",
      "100%[======================================>] 59,032      --.-K/s   in 0.002s  \n",
      "\n",
      "2019-12-16 10:11:57 (23.3 MB/s) - 'a2.parquet?raw=true' saved [59032/59032]\n",
      "\n"
     ]
    }
   ],
   "source": [
    "# load parquet dataset\n",
    "!wget https://github.com/rahulsnair/sample_parquet/blob/master/a2.parquet?raw=true\n",
    "!mv a2.parquet?raw=true a2.parquet"
   ]
  },
  {
   "cell_type": "code",
   "execution_count": 2,
   "metadata": {},
   "outputs": [
    {
     "name": "stdout",
     "output_type": "stream",
     "text": [
      "+-----+-----------+-------------------+-------------------+-------------------+\n",
      "|CLASS|   SENSORID|                  X|                  Y|                  Z|\n",
      "+-----+-----------+-------------------+-------------------+-------------------+\n",
      "|    0|         26| 380.66434005495194| -139.3470983812975|-247.93697521077704|\n",
      "|    0|         29| 104.74324299209692| -32.27421440203938|-25.105013725863852|\n",
      "|    0| 8589934658| 118.11469236129976| 45.916682927433534| -87.97203782706572|\n",
      "|    0|34359738398| 246.55394030642543|-0.6122810693132044|-398.18662513951506|\n",
      "|    0|17179869241|-190.32584900181487|  234.7849657520335|-206.34483804019288|\n",
      "|    0|25769803830| 178.62396382387422| -47.07529438881511|  84.38310769821979|\n",
      "|    0|25769803831|  85.03128805189493|-4.3024316644854546|-1.1841857567516714|\n",
      "|    0|34359738411| 26.786262674736566| -46.33193951911338| 20.880756008396055|\n",
      "|    0| 8589934592|-16.203752396859194| 51.080957032176954| -96.80526656416971|\n",
      "|    0|25769803852|   47.2048142440404|  -78.2950899652916| 181.99604091494786|\n",
      "|    0|34359738369| 15.608872398939273| -79.90322809181754|  69.62150711098005|\n",
      "|    0|         19|-4.8281721129789315| -67.38050508399905| 221.24876396496404|\n",
      "|    0|         54| -98.40725712852762|-19.989364074314732|  -302.695196085276|\n",
      "|    0|17179869313| 22.835845394816594|   17.1633660118843| 32.877914832011385|\n",
      "|    0|34359738454|  84.20178070080324| -32.81572075916947| -48.63517643958031|\n",
      "|    0|          0|  56.54732521345129| -7.980106018032676|  95.05162719436447|\n",
      "|    0|17179869201|  -57.6008655247749|  5.135393798773895| 236.99158698947267|\n",
      "|    0|17179869308| -65.59264738389012| -48.92660057215126| -61.58970715383383|\n",
      "|    0|25769803790|  34.82337351291005|  9.483542084393937|  197.6066372962772|\n",
      "|    0|25769803825|  39.80573823439121|-0.7955236412785212| -79.66652640650325|\n",
      "+-----+-----------+-------------------+-------------------+-------------------+\n",
      "only showing top 20 rows\n",
      "\n"
     ]
    }
   ],
   "source": [
    "# convert parquet to a dataframe\n",
    "df=spark.read.load('a2.parquet')\n",
    "\n",
    "df.createOrReplaceTempView(\"df\")\n",
    "spark.sql(\"SELECT * from df\").show()"
   ]
  },
  {
   "cell_type": "code",
   "execution_count": 3,
   "metadata": {},
   "outputs": [],
   "source": [
    "# preprocessing definition\n",
    "from pyspark.ml.feature import StringIndexer\n",
    "from pyspark.ml.feature import VectorAssembler\n",
    "\n",
    "indexer = StringIndexer(inputCol=\"CLASS\", outputCol=\"label\")\n",
    "vectorAssembler = VectorAssembler(inputCols=['X','Y','Z'], outputCol= 'features')"
   ]
  },
  {
   "cell_type": "code",
   "execution_count": 4,
   "metadata": {},
   "outputs": [],
   "source": [
    "# classifier definition\n",
    "from pyspark.ml.classification import LogisticRegression\n",
    "\n",
    "classifier = LogisticRegression(maxIter=15, regParam=0.3, elasticNetParam=0.8)"
   ]
  },
  {
   "cell_type": "code",
   "execution_count": 5,
   "metadata": {},
   "outputs": [],
   "source": [
    "# create pipeline for model execution\n",
    "from pyspark.ml import Pipeline\n",
    "pipeline = Pipeline(stages=[indexer, vectorAssembler, classifier])"
   ]
  },
  {
   "cell_type": "code",
   "execution_count": 6,
   "metadata": {},
   "outputs": [],
   "source": [
    "# train the model\n",
    "model = pipeline.fit(df)"
   ]
  },
  {
   "cell_type": "code",
   "execution_count": 7,
   "metadata": {},
   "outputs": [],
   "source": [
    "# prediction on the model\n",
    "prediction = model.transform(df)"
   ]
  },
  {
   "cell_type": "code",
   "execution_count": 8,
   "metadata": {},
   "outputs": [
    {
     "name": "stdout",
     "output_type": "stream",
     "text": [
      "+-----+-----------+-------------------+-------------------+-------------------+-----+--------------------+--------------------+--------------------+----------+\n",
      "|CLASS|   SENSORID|                  X|                  Y|                  Z|label|            features|       rawPrediction|         probability|prediction|\n",
      "+-----+-----------+-------------------+-------------------+-------------------+-----+--------------------+--------------------+--------------------+----------+\n",
      "|    0|         26| 380.66434005495194| -139.3470983812975|-247.93697521077704|  0.0|[380.664340054951...|[0.13828701585409...|[0.53451676528599...|       0.0|\n",
      "|    0|         29| 104.74324299209692| -32.27421440203938|-25.105013725863852|  0.0|[104.743242992096...|[0.13828701585409...|[0.53451676528599...|       0.0|\n",
      "|    0| 8589934658| 118.11469236129976| 45.916682927433534| -87.97203782706572|  0.0|[118.114692361299...|[0.13828701585409...|[0.53451676528599...|       0.0|\n",
      "|    0|34359738398| 246.55394030642543|-0.6122810693132044|-398.18662513951506|  0.0|[246.553940306425...|[0.13828701585409...|[0.53451676528599...|       0.0|\n",
      "|    0|17179869241|-190.32584900181487|  234.7849657520335|-206.34483804019288|  0.0|[-190.32584900181...|[0.13828701585409...|[0.53451676528599...|       0.0|\n",
      "|    0|25769803830| 178.62396382387422| -47.07529438881511|  84.38310769821979|  0.0|[178.623963823874...|[0.13828701585409...|[0.53451676528599...|       0.0|\n",
      "|    0|25769803831|  85.03128805189493|-4.3024316644854546|-1.1841857567516714|  0.0|[85.0312880518949...|[0.13828701585409...|[0.53451676528599...|       0.0|\n",
      "|    0|34359738411| 26.786262674736566| -46.33193951911338| 20.880756008396055|  0.0|[26.7862626747365...|[0.13828701585409...|[0.53451676528599...|       0.0|\n",
      "|    0| 8589934592|-16.203752396859194| 51.080957032176954| -96.80526656416971|  0.0|[-16.203752396859...|[0.13828701585409...|[0.53451676528599...|       0.0|\n",
      "|    0|25769803852|   47.2048142440404|  -78.2950899652916| 181.99604091494786|  0.0|[47.2048142440404...|[0.13828701585409...|[0.53451676528599...|       0.0|\n",
      "|    0|34359738369| 15.608872398939273| -79.90322809181754|  69.62150711098005|  0.0|[15.6088723989392...|[0.13828701585409...|[0.53451676528599...|       0.0|\n",
      "|    0|         19|-4.8281721129789315| -67.38050508399905| 221.24876396496404|  0.0|[-4.8281721129789...|[0.13828701585409...|[0.53451676528599...|       0.0|\n",
      "|    0|         54| -98.40725712852762|-19.989364074314732|  -302.695196085276|  0.0|[-98.407257128527...|[0.13828701585409...|[0.53451676528599...|       0.0|\n",
      "|    0|17179869313| 22.835845394816594|   17.1633660118843| 32.877914832011385|  0.0|[22.8358453948165...|[0.13828701585409...|[0.53451676528599...|       0.0|\n",
      "|    0|34359738454|  84.20178070080324| -32.81572075916947| -48.63517643958031|  0.0|[84.2017807008032...|[0.13828701585409...|[0.53451676528599...|       0.0|\n",
      "|    0|          0|  56.54732521345129| -7.980106018032676|  95.05162719436447|  0.0|[56.5473252134512...|[0.13828701585409...|[0.53451676528599...|       0.0|\n",
      "|    0|17179869201|  -57.6008655247749|  5.135393798773895| 236.99158698947267|  0.0|[-57.600865524774...|[0.13828701585409...|[0.53451676528599...|       0.0|\n",
      "|    0|17179869308| -65.59264738389012| -48.92660057215126| -61.58970715383383|  0.0|[-65.592647383890...|[0.13828701585409...|[0.53451676528599...|       0.0|\n",
      "|    0|25769803790|  34.82337351291005|  9.483542084393937|  197.6066372962772|  0.0|[34.8233735129100...|[0.13828701585409...|[0.53451676528599...|       0.0|\n",
      "|    0|25769803825|  39.80573823439121|-0.7955236412785212| -79.66652640650325|  0.0|[39.8057382343912...|[0.13828701585409...|[0.53451676528599...|       0.0|\n",
      "+-----+-----------+-------------------+-------------------+-------------------+-----+--------------------+--------------------+--------------------+----------+\n",
      "only showing top 20 rows\n",
      "\n"
     ]
    }
   ],
   "source": [
    "prediction.show()"
   ]
  },
  {
   "cell_type": "code",
   "execution_count": 9,
   "metadata": {},
   "outputs": [
    {
     "data": {
      "text/plain": [
       "0.534516765285996"
      ]
     },
     "execution_count": 9,
     "metadata": {},
     "output_type": "execute_result"
    }
   ],
   "source": [
    "# model evaluation\n",
    "\n",
    "from pyspark.ml.evaluation import MulticlassClassificationEvaluator\n",
    "binEval = MulticlassClassificationEvaluator().setMetricName(\"accuracy\") .setPredictionCol(\"prediction\").setLabelCol(\"CLASS\")\n",
    "    \n",
    "binEval.evaluate(prediction) "
   ]
  }
 ],
 "metadata": {
  "kernelspec": {
   "display_name": "Python 3",
   "language": "python",
   "name": "python3"
  },
  "language_info": {
   "codemirror_mode": {
    "name": "ipython",
    "version": 3
   },
   "file_extension": ".py",
   "mimetype": "text/x-python",
   "name": "python",
   "nbconvert_exporter": "python",
   "pygments_lexer": "ipython3",
   "version": "3.7.4"
  }
 },
 "nbformat": 4,
 "nbformat_minor": 1
}
